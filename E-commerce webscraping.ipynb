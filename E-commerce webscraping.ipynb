{
 "cells": [
  {
   "cell_type": "code",
   "execution_count": 117,
   "id": "b6f57067",
   "metadata": {},
   "outputs": [],
   "source": [
    "#Import lib\n",
    "import pandas as pd\n",
    "import requests\n",
    "import re\n",
    "from bs4 import BeautifulSoup\n",
    "import numpy as np"
   ]
  },
  {
   "cell_type": "code",
   "execution_count": 118,
   "id": "6ea74355",
   "metadata": {},
   "outputs": [
    {
     "data": {
      "text/html": [
       "<div>\n",
       "<style scoped>\n",
       "    .dataframe tbody tr th:only-of-type {\n",
       "        vertical-align: middle;\n",
       "    }\n",
       "\n",
       "    .dataframe tbody tr th {\n",
       "        vertical-align: top;\n",
       "    }\n",
       "\n",
       "    .dataframe thead th {\n",
       "        text-align: right;\n",
       "    }\n",
       "</style>\n",
       "<table border=\"1\" class=\"dataframe\">\n",
       "  <thead>\n",
       "    <tr style=\"text-align: right;\">\n",
       "      <th></th>\n",
       "      <th>type</th>\n",
       "      <th>title_of_book</th>\n",
       "      <th>price</th>\n",
       "      <th>status</th>\n",
       "      <th>upc</th>\n",
       "      <th>tax</th>\n",
       "      <th>link</th>\n",
       "    </tr>\n",
       "  </thead>\n",
       "  <tbody>\n",
       "  </tbody>\n",
       "</table>\n",
       "</div>"
      ],
      "text/plain": [
       "Empty DataFrame\n",
       "Columns: [type, title_of_book, price, status, upc, tax, link]\n",
       "Index: []"
      ]
     },
     "execution_count": 118,
     "metadata": {},
     "output_type": "execute_result"
    }
   ],
   "source": [
    "#define columns name\n",
    "col_name = ['type','title_of_book','price','status','upc','tax','link']\n",
    "df = pd.DataFrame(columns=col_name)\n",
    "df"
   ]
  },
  {
   "cell_type": "code",
   "execution_count": 119,
   "id": "68078740",
   "metadata": {},
   "outputs": [],
   "source": [
    "def scrap_data_from_link(url):\n",
    "    #conect to website to get html\n",
    "    URL = url\n",
    "    respone = requests.get(URL).text\n",
    "    soup = BeautifulSoup(respone,'html.parser')\n",
    "\n",
    "    #get the type\n",
    "    index_1=[]\n",
    "    index_1.append(soup.find_all('li')[2].text.replace('\\n',''))\n",
    "    \n",
    "    content = soup.find_all(class_='col-sm-6 product_main')\n",
    "    for el in content:\n",
    "        #get title_of_book\n",
    "        index_1.append(el.find('h1').text)\n",
    "        #get price\n",
    "        not_clean =el.find(class_='price_color').text\n",
    "        index_1.append(not_clean[2:])\n",
    "        #get status\n",
    "        index_1.append(el.find(class_='instock availability').text.replace('\\n','').strip())\n",
    "\n",
    "    #get upc\n",
    "    index_1.append(soup.find_all('td')[0].text)\n",
    "    #get tax\n",
    "    tax_not_clean =(soup.find_all('td')[4].text)\n",
    "    index_1.append(tax_not_clean.replace(tax_not_clean[:2],''))\n",
    "    #get link\n",
    "    index_1.append(URL)\n",
    "    \n",
    "    #insert data in to dataframe\n",
    "    df.loc[len(df)] =index_1\n",
    "    return df"
   ]
  },
  {
   "cell_type": "code",
   "execution_count": 120,
   "id": "6eef2622",
   "metadata": {},
   "outputs": [
    {
     "data": {
      "text/html": [
       "<div>\n",
       "<style scoped>\n",
       "    .dataframe tbody tr th:only-of-type {\n",
       "        vertical-align: middle;\n",
       "    }\n",
       "\n",
       "    .dataframe tbody tr th {\n",
       "        vertical-align: top;\n",
       "    }\n",
       "\n",
       "    .dataframe thead th {\n",
       "        text-align: right;\n",
       "    }\n",
       "</style>\n",
       "<table border=\"1\" class=\"dataframe\">\n",
       "  <thead>\n",
       "    <tr style=\"text-align: right;\">\n",
       "      <th></th>\n",
       "      <th>type</th>\n",
       "      <th>title_of_book</th>\n",
       "      <th>price</th>\n",
       "      <th>status</th>\n",
       "      <th>upc</th>\n",
       "      <th>tax</th>\n",
       "      <th>link</th>\n",
       "    </tr>\n",
       "  </thead>\n",
       "  <tbody>\n",
       "    <tr>\n",
       "      <th>0</th>\n",
       "      <td>Travel</td>\n",
       "      <td>It's Only the Himalayas</td>\n",
       "      <td>45.17</td>\n",
       "      <td>In stock (19 available)</td>\n",
       "      <td>a22124811bfa8350</td>\n",
       "      <td>0.00</td>\n",
       "      <td>https://books.toscrape.com/catalogue/its-only-...</td>\n",
       "    </tr>\n",
       "  </tbody>\n",
       "</table>\n",
       "</div>"
      ],
      "text/plain": [
       "     type            title_of_book  price                   status  \\\n",
       "0  Travel  It's Only the Himalayas  45.17  In stock (19 available)   \n",
       "\n",
       "                upc   tax                                               link  \n",
       "0  a22124811bfa8350  0.00  https://books.toscrape.com/catalogue/its-only-...  "
      ]
     },
     "execution_count": 120,
     "metadata": {},
     "output_type": "execute_result"
    }
   ],
   "source": [
    "# link to web https://books.toscrape.com/\n",
    "#My def can get any book from this website\n",
    "#Just give it the link of the book and it will return a dataframe with that book's data inserted\n",
    "scrap_data_from_link('https://books.toscrape.com/catalogue/its-only-the-himalayas_981/index.html')"
   ]
  }
 ],
 "metadata": {
  "kernelspec": {
   "display_name": "Python 3 (ipykernel)",
   "language": "python",
   "name": "python3"
  },
  "language_info": {
   "codemirror_mode": {
    "name": "ipython",
    "version": 3
   },
   "file_extension": ".py",
   "mimetype": "text/x-python",
   "name": "python",
   "nbconvert_exporter": "python",
   "pygments_lexer": "ipython3",
   "version": "3.10.9"
  }
 },
 "nbformat": 4,
 "nbformat_minor": 5
}
