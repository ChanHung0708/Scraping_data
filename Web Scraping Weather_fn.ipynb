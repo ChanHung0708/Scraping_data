{
 "cells": [
  {
   "cell_type": "markdown",
   "id": "3f6f6b67",
   "metadata": {},
   "source": [
    "# WEBSCRAPING BEGINNER"
   ]
  },
  {
   "cell_type": "code",
   "execution_count": 2,
   "id": "846bab75",
   "metadata": {
    "scrolled": true
   },
   "outputs": [],
   "source": [
    "#import lib\n",
    "from bs4 import BeautifulSoup\n",
    "import requests\n",
    "import pandas as pd\n",
    "import numpy as np"
   ]
  },
  {
   "cell_type": "code",
   "execution_count": 2,
   "id": "107fe009",
   "metadata": {
    "scrolled": false
   },
   "outputs": [],
   "source": [
    "\n",
    "url = \"https://www.ventusky.com/ho-chi-minh-city#actual\"\n",
    "rep = requests.get(url)\n",
    "soup = BeautifulSoup(rep.text, \"html.parser\")\n",
    "#soup"
   ]
  },
  {
   "cell_type": "code",
   "execution_count": 3,
   "id": "4c611e96",
   "metadata": {},
   "outputs": [],
   "source": [
    "forecast = soup.find_all(class_=\"forecast_mesto\")\n",
    "for i in forecast:\n",
    "    parent_forecast =i.parent"
   ]
  },
  {
   "cell_type": "code",
   "execution_count": 4,
   "id": "e5873ebb",
   "metadata": {},
   "outputs": [],
   "source": [
    "date_ = parent_forecast.find(id=\"date_selector\")\n",
    "#date_"
   ]
  },
  {
   "cell_type": "code",
   "execution_count": 5,
   "id": "6608d9b4",
   "metadata": {},
   "outputs": [],
   "source": [
    "fdate = []\n",
    "for str_ in date_:\n",
    "    c = str_.string\n",
    "    fdate.append(c)\n",
    "fdate =fdate[1:8]\n",
    "ddate ={'Ngay':fdate,'Thu':None,'Nhiet do':None}"
   ]
  },
  {
   "cell_type": "code",
   "execution_count": 6,
   "id": "ab4c5290",
   "metadata": {},
   "outputs": [],
   "source": [
    "tpm = parent_forecast.find_all(\"a\")[1:]"
   ]
  },
  {
   "cell_type": "code",
   "execution_count": 7,
   "id": "3514ed05",
   "metadata": {},
   "outputs": [],
   "source": [
    "text =[]\n",
    "\n",
    "for i in tpm:\n",
    "    c= i.text\n",
    "    text.append(c)"
   ]
  },
  {
   "cell_type": "code",
   "execution_count": 8,
   "id": "a94f0725",
   "metadata": {},
   "outputs": [],
   "source": [
    "import re \n",
    "\n",
    "patternThu =r'(\\w{2})'\n",
    "patternTemp = r'(\\d+)'\n",
    "Thu = []\n",
    "Temp =[]\n",
    "\n",
    "for item in text:\n",
    "    match = re.search(patternThu, item)\n",
    "    if match:\n",
    "        thu = match.group()\n",
    "        Thu.append(f'{thu}')\n",
    "    match = re.search(patternTemp, item)\n",
    "    if match:\n",
    "        temp = match.group()\n",
    "        Temp.append(f'{temp}°C')"
   ]
  },
  {
   "cell_type": "code",
   "execution_count": 9,
   "id": "9e1d4724",
   "metadata": {},
   "outputs": [],
   "source": [
    "ddate['Thu'] = Thu\n",
    "ddate['Nhiet do'] = Temp"
   ]
  },
  {
   "cell_type": "code",
   "execution_count": 10,
   "id": "8d361740",
   "metadata": {},
   "outputs": [
    {
     "data": {
      "text/html": [
       "<div>\n",
       "<style scoped>\n",
       "    .dataframe tbody tr th:only-of-type {\n",
       "        vertical-align: middle;\n",
       "    }\n",
       "\n",
       "    .dataframe tbody tr th {\n",
       "        vertical-align: top;\n",
       "    }\n",
       "\n",
       "    .dataframe thead th {\n",
       "        text-align: right;\n",
       "    }\n",
       "</style>\n",
       "<table border=\"1\" class=\"dataframe\">\n",
       "  <thead>\n",
       "    <tr style=\"text-align: right;\">\n",
       "      <th></th>\n",
       "      <th>Ngay</th>\n",
       "      <th>Thu</th>\n",
       "      <th>Nhiet do</th>\n",
       "    </tr>\n",
       "  </thead>\n",
       "  <tbody>\n",
       "    <tr>\n",
       "      <th>0</th>\n",
       "      <td>2023/10/12</td>\n",
       "      <td>Th</td>\n",
       "      <td>31°C</td>\n",
       "    </tr>\n",
       "    <tr>\n",
       "      <th>1</th>\n",
       "      <td>2023/10/13</td>\n",
       "      <td>Fr</td>\n",
       "      <td>30°C</td>\n",
       "    </tr>\n",
       "    <tr>\n",
       "      <th>2</th>\n",
       "      <td>2023/10/14</td>\n",
       "      <td>Sa</td>\n",
       "      <td>31°C</td>\n",
       "    </tr>\n",
       "    <tr>\n",
       "      <th>3</th>\n",
       "      <td>2023/10/15</td>\n",
       "      <td>Su</td>\n",
       "      <td>30°C</td>\n",
       "    </tr>\n",
       "    <tr>\n",
       "      <th>4</th>\n",
       "      <td>2023/10/16</td>\n",
       "      <td>Mo</td>\n",
       "      <td>32°C</td>\n",
       "    </tr>\n",
       "    <tr>\n",
       "      <th>5</th>\n",
       "      <td>2023/10/17</td>\n",
       "      <td>Tu</td>\n",
       "      <td>32°C</td>\n",
       "    </tr>\n",
       "    <tr>\n",
       "      <th>6</th>\n",
       "      <td>2023/10/18</td>\n",
       "      <td>We</td>\n",
       "      <td>33°C</td>\n",
       "    </tr>\n",
       "  </tbody>\n",
       "</table>\n",
       "</div>"
      ],
      "text/plain": [
       "         Ngay Thu Nhiet do\n",
       "0  2023/10/12  Th     31°C\n",
       "1  2023/10/13  Fr     30°C\n",
       "2  2023/10/14  Sa     31°C\n",
       "3  2023/10/15  Su     30°C\n",
       "4  2023/10/16  Mo     32°C\n",
       "5  2023/10/17  Tu     32°C\n",
       "6  2023/10/18  We     33°C"
      ]
     },
     "execution_count": 10,
     "metadata": {},
     "output_type": "execute_result"
    }
   ],
   "source": [
    "df = pd.DataFrame(ddate)\n",
    "df"
   ]
  },
  {
   "cell_type": "code",
   "execution_count": null,
   "id": "632c97e2",
   "metadata": {},
   "outputs": [],
   "source": []
  }
 ],
 "metadata": {
  "kernelspec": {
   "display_name": "Python 3 (ipykernel)",
   "language": "python",
   "name": "python3"
  },
  "language_info": {
   "codemirror_mode": {
    "name": "ipython",
    "version": 3
   },
   "file_extension": ".py",
   "mimetype": "text/x-python",
   "name": "python",
   "nbconvert_exporter": "python",
   "pygments_lexer": "ipython3",
   "version": "3.10.9"
  }
 },
 "nbformat": 4,
 "nbformat_minor": 5
}
